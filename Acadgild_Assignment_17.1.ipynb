{
 "cells": [
  {
   "cell_type": "markdown",
   "metadata": {},
   "source": [
    "### PROBLEM:\n",
    "\n",
    "A test is conducted which is consisting of **20** MCQs (multiple choices questions) with\n",
    "every MCQ having its **four** options out of which only one is correct. Determine the\n",
    "probability that a person undertaking that test has answered exactly 5 questions wrong."
   ]
  },
  {
   "cell_type": "markdown",
   "metadata": {},
   "source": [
    "**INTUITION:**\n",
    "\n",
    "Probability of getting exactly 5 questions wrong out of 20 total multiple choice questions (MCQs) is the equivalent of asking: \"What is the probability of answering 15 questions correctly on a multiple choice test?\"\n",
    "\n",
    "Of course, this assumes uninformed students randomly answer and answering each question is independent of all other questions. In reality, other factors such as question difficulty, familiarity with the test subject matter, and time spent studying would likely impact the probability."
   ]
  },
  {
   "cell_type": "markdown",
   "metadata": {},
   "source": [
    "**MASTER EQUATION:**\n",
    "$P(X) = \\frac{n!}{x!(n - x)!} p^x{(1-p)^{n - x}} $\n",
    "\n",
    "$ mini-equation(a) = \\frac{n!}{x!(n - x)!}$\n",
    "\n",
    "$ mini-equation(b) = p^x$\n",
    "\n",
    "$ mini-equation(c) = {(1-p)^{n - x}}$\n",
    "\n",
    "n = number of trials; x = desired successful trials; p = probability of success on a specific trial\n",
    "\n",
    "additional sources: http://onlinestatbook.com/2/probability/binomial.html; https://www.varsitytutors.com/hotmath/hotmath_help/topics/binomial-probability; http://www.stat.ucla.edu/~magtira/XL10/chapter6_p2.pdf"
   ]
  },
  {
   "cell_type": "code",
   "execution_count": 1,
   "metadata": {},
   "outputs": [],
   "source": [
    "import math"
   ]
  },
  {
   "cell_type": "code",
   "execution_count": 2,
   "metadata": {},
   "outputs": [],
   "source": [
    "trials = 20\n",
    "correct = 15\n",
    "prob_correct = 1/4\n",
    "prob_incorrect = (1 - prob_correct)\n",
    "incorrect = (trials - correct)"
   ]
  },
  {
   "cell_type": "code",
   "execution_count": 3,
   "metadata": {},
   "outputs": [],
   "source": [
    "coefficient = math.factorial(trials) / (math.factorial(correct)*(math.factorial(incorrect)))"
   ]
  },
  {
   "cell_type": "code",
   "execution_count": 4,
   "metadata": {},
   "outputs": [],
   "source": [
    "test_result = coefficient"
   ]
  },
  {
   "cell_type": "code",
   "execution_count": 5,
   "metadata": {},
   "outputs": [
    {
     "data": {
      "text/plain": [
       "15504.0"
      ]
     },
     "execution_count": 5,
     "metadata": {},
     "output_type": "execute_result"
    }
   ],
   "source": [
    "test_result"
   ]
  },
  {
   "cell_type": "code",
   "execution_count": 7,
   "metadata": {},
   "outputs": [],
   "source": [
    "part1 = (prob_correct**correct)*((prob_incorrect)**(incorrect))"
   ]
  },
  {
   "cell_type": "code",
   "execution_count": 8,
   "metadata": {},
   "outputs": [
    {
     "data": {
      "text/plain": [
       "2.2100721253082156e-10"
      ]
     },
     "execution_count": 8,
     "metadata": {},
     "output_type": "execute_result"
    }
   ],
   "source": [
    "part1"
   ]
  },
  {
   "cell_type": "code",
   "execution_count": 10,
   "metadata": {},
   "outputs": [],
   "source": [
    "test_result = coefficient * part1"
   ]
  },
  {
   "cell_type": "code",
   "execution_count": 11,
   "metadata": {},
   "outputs": [
    {
     "data": {
      "text/plain": [
       "3.4264958230778575e-06"
      ]
     },
     "execution_count": 11,
     "metadata": {},
     "output_type": "execute_result"
    }
   ],
   "source": [
    "test_result"
   ]
  },
  {
   "cell_type": "code",
   "execution_count": 12,
   "metadata": {},
   "outputs": [],
   "source": [
    "result = test_result * 100"
   ]
  },
  {
   "cell_type": "code",
   "execution_count": 13,
   "metadata": {},
   "outputs": [
    {
     "data": {
      "text/plain": [
       "0.00034264958230778575"
      ]
     },
     "execution_count": 13,
     "metadata": {},
     "output_type": "execute_result"
    }
   ],
   "source": [
    "result"
   ]
  },
  {
   "cell_type": "code",
   "execution_count": 14,
   "metadata": {},
   "outputs": [
    {
     "name": "stdout",
     "output_type": "stream",
     "text": [
      "Probability of getting exactly 15 questions right out of 20 is 0.034265%\n"
     ]
    }
   ],
   "source": [
    "print('Probability of getting exactly 15 questions right out of 20 is {0:,.6f}%.'.format(result*100))"
   ]
  }
 ],
 "metadata": {
  "kernelspec": {
   "display_name": "Python 3",
   "language": "python",
   "name": "python3"
  },
  "language_info": {
   "codemirror_mode": {
    "name": "ipython",
    "version": 3
   },
   "file_extension": ".py",
   "mimetype": "text/x-python",
   "name": "python",
   "nbconvert_exporter": "python",
   "pygments_lexer": "ipython3",
   "version": "3.6.6"
  }
 },
 "nbformat": 4,
 "nbformat_minor": 2
}
